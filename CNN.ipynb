{
 "cells": [
  {
   "cell_type": "code",
   "execution_count": 1,
   "metadata": {
    "colab": {
     "base_uri": "https://localhost:8080/",
     "height": 1000
    },
    "colab_type": "code",
    "id": "H9EU0e8yzFOm",
    "outputId": "fdb25511-f72a-4b12-811c-1bc8b64c54d8"
   },
   "outputs": [
    {
     "name": "stderr",
     "output_type": "stream",
     "text": [
      "Using TensorFlow backend.\n"
     ]
    },
    {
     "name": "stdout",
     "output_type": "stream",
     "text": [
      "Downloading data from https://s3.amazonaws.com/img-datasets/mnist.npz\n",
      "11493376/11490434 [==============================] - 1s 0us/step\n"
     ]
    },
    {
     "name": "stderr",
     "output_type": "stream",
     "text": [
      "WARNING: Logging before flag parsing goes to stderr.\n",
      "W0706 03:17:43.528709 140241026459520 deprecation_wrapper.py:119] From /usr/local/lib/python3.6/dist-packages/keras/backend/tensorflow_backend.py:74: The name tf.get_default_graph is deprecated. Please use tf.compat.v1.get_default_graph instead.\n",
      "\n",
      "W0706 03:17:43.565051 140241026459520 deprecation_wrapper.py:119] From /usr/local/lib/python3.6/dist-packages/keras/backend/tensorflow_backend.py:517: The name tf.placeholder is deprecated. Please use tf.compat.v1.placeholder instead.\n",
      "\n",
      "W0706 03:17:43.572702 140241026459520 deprecation_wrapper.py:119] From /usr/local/lib/python3.6/dist-packages/keras/backend/tensorflow_backend.py:4138: The name tf.random_uniform is deprecated. Please use tf.random.uniform instead.\n",
      "\n",
      "W0706 03:17:43.632028 140241026459520 deprecation_wrapper.py:119] From /usr/local/lib/python3.6/dist-packages/keras/backend/tensorflow_backend.py:3976: The name tf.nn.max_pool is deprecated. Please use tf.nn.max_pool2d instead.\n",
      "\n",
      "W0706 03:17:43.635239 140241026459520 deprecation_wrapper.py:119] From /usr/local/lib/python3.6/dist-packages/keras/backend/tensorflow_backend.py:133: The name tf.placeholder_with_default is deprecated. Please use tf.compat.v1.placeholder_with_default instead.\n",
      "\n",
      "W0706 03:17:43.647608 140241026459520 deprecation.py:506] From /usr/local/lib/python3.6/dist-packages/keras/backend/tensorflow_backend.py:3445: calling dropout (from tensorflow.python.ops.nn_ops) with keep_prob is deprecated and will be removed in a future version.\n",
      "Instructions for updating:\n",
      "Please use `rate` instead of `keep_prob`. Rate should be set to `rate = 1 - keep_prob`.\n"
     ]
    },
    {
     "name": "stdout",
     "output_type": "stream",
     "text": [
      "x_train shape: (60000, 28, 28, 1)\n",
      "60000 train samples\n",
      "10000 test samples\n"
     ]
    },
    {
     "name": "stderr",
     "output_type": "stream",
     "text": [
      "W0706 03:17:43.734880 140241026459520 deprecation_wrapper.py:119] From /usr/local/lib/python3.6/dist-packages/keras/optimizers.py:790: The name tf.train.Optimizer is deprecated. Please use tf.compat.v1.train.Optimizer instead.\n",
      "\n",
      "W0706 03:17:43.745553 140241026459520 deprecation_wrapper.py:119] From /usr/local/lib/python3.6/dist-packages/keras/backend/tensorflow_backend.py:3295: The name tf.log is deprecated. Please use tf.math.log instead.\n",
      "\n",
      "W0706 03:17:43.886748 140241026459520 deprecation.py:323] From /usr/local/lib/python3.6/dist-packages/tensorflow/python/ops/math_grad.py:1250: add_dispatch_support.<locals>.wrapper (from tensorflow.python.ops.array_ops) is deprecated and will be removed in a future version.\n",
      "Instructions for updating:\n",
      "Use tf.where in 2.0, which has the same broadcast rule as np.where\n"
     ]
    },
    {
     "name": "stdout",
     "output_type": "stream",
     "text": [
      "Train on 60000 samples, validate on 10000 samples\n",
      "Epoch 1/12\n",
      "60000/60000 [==============================] - 152s 3ms/step - loss: 0.2799 - acc: 0.9149 - val_loss: 0.0622 - val_acc: 0.9797\n",
      "Epoch 2/12\n",
      "60000/60000 [==============================] - 150s 3ms/step - loss: 0.0887 - acc: 0.9737 - val_loss: 0.0418 - val_acc: 0.9856\n",
      "Epoch 3/12\n",
      "60000/60000 [==============================] - 150s 3ms/step - loss: 0.0663 - acc: 0.9803 - val_loss: 0.0389 - val_acc: 0.9861\n",
      "Epoch 4/12\n",
      "60000/60000 [==============================] - 150s 2ms/step - loss: 0.0544 - acc: 0.9839 - val_loss: 0.0332 - val_acc: 0.9889\n",
      "Epoch 5/12\n",
      "60000/60000 [==============================] - 150s 3ms/step - loss: 0.0461 - acc: 0.9865 - val_loss: 0.0289 - val_acc: 0.9901\n",
      "Epoch 6/12\n",
      "60000/60000 [==============================] - 150s 2ms/step - loss: 0.0430 - acc: 0.9871 - val_loss: 0.0280 - val_acc: 0.9907\n",
      "Epoch 7/12\n",
      "60000/60000 [==============================] - 150s 3ms/step - loss: 0.0374 - acc: 0.9888 - val_loss: 0.0322 - val_acc: 0.9899\n",
      "Epoch 8/12\n",
      "60000/60000 [==============================] - 150s 3ms/step - loss: 0.0349 - acc: 0.9894 - val_loss: 0.0301 - val_acc: 0.9905\n",
      "Epoch 9/12\n",
      "60000/60000 [==============================] - 150s 3ms/step - loss: 0.0307 - acc: 0.9908 - val_loss: 0.0297 - val_acc: 0.9913\n",
      "Epoch 10/12\n",
      "60000/60000 [==============================] - 150s 3ms/step - loss: 0.0301 - acc: 0.9908 - val_loss: 0.0246 - val_acc: 0.9921\n",
      "Epoch 11/12\n",
      "60000/60000 [==============================] - 150s 2ms/step - loss: 0.0303 - acc: 0.9907 - val_loss: 0.0348 - val_acc: 0.9883\n",
      "Epoch 12/12\n",
      "60000/60000 [==============================] - 150s 2ms/step - loss: 0.0287 - acc: 0.9914 - val_loss: 0.0237 - val_acc: 0.9923\n",
      "Test loss: 0.023695850079677255\n",
      "Test accuracy: 0.9923\n"
     ]
    }
   ],
   "source": [
    "# Credits: https://github.com/keras-team/keras/blob/master/examples/mnist_cnn.py\n",
    "\n",
    "\n",
    "from __future__ import print_function\n",
    "import keras\n",
    "from keras.datasets import mnist\n",
    "from keras.models import Sequential\n",
    "from keras.layers import Dense, Dropout, Flatten\n",
    "from keras.layers import Conv2D, MaxPooling2D\n",
    "from keras import backend as K\n",
    "\n",
    "batch_size = 128\n",
    "num_classes = 10\n",
    "epochs = 12\n",
    "\n",
    "# input image dimensions\n",
    "img_rows, img_cols = 28, 28\n",
    "\n",
    "# the data, split between train and test sets\n",
    "(x_train, y_train), (x_test, y_test) = mnist.load_data()\n",
    "\n",
    "if K.image_data_format() == 'channels_first':\n",
    "    x_train = x_train.reshape(x_train.shape[0], 1, img_rows, img_cols)\n",
    "    x_test = x_test.reshape(x_test.shape[0], 1, img_rows, img_cols)\n",
    "    input_shape = (1, img_rows, img_cols)\n",
    "else:\n",
    "    x_train = x_train.reshape(x_train.shape[0], img_rows, img_cols, 1)\n",
    "    x_test = x_test.reshape(x_test.shape[0], img_rows, img_cols, 1)\n",
    "    input_shape = (img_rows, img_cols, 1)\n",
    "\n",
    "x_train = x_train.astype('float32')\n",
    "x_test = x_test.astype('float32')\n",
    "x_train /= 255\n",
    "x_test /= 255\n",
    "print('x_train shape:', x_train.shape)\n",
    "print(x_train.shape[0], 'train samples')\n",
    "print(x_test.shape[0], 'test samples')\n",
    "\n",
    "# convert class vectors to binary class matrices\n",
    "y_train = keras.utils.to_categorical(y_train, num_classes)\n",
    "y_test = keras.utils.to_categorical(y_test, num_classes)\n",
    "\n",
    "model = Sequential()\n",
    "model.add(Conv2D(32, kernel_size=(3, 3),\n",
    "                 activation='relu',\n",
    "                 input_shape=input_shape))\n",
    "model.add(Conv2D(64, (3, 3), activation='relu'))\n",
    "model.add(MaxPooling2D(pool_size=(2, 2)))\n",
    "model.add(Dropout(0.25))\n",
    "model.add(Flatten())\n",
    "model.add(Dense(128, activation='relu'))\n",
    "model.add(Dropout(0.5))\n",
    "model.add(Dense(num_classes, activation='softmax'))\n",
    "\n",
    "model.compile(loss=keras.losses.categorical_crossentropy,\n",
    "              optimizer=keras.optimizers.Adadelta(),\n",
    "              metrics=['accuracy'])\n",
    "\n",
    "model.fit(x_train, y_train,\n",
    "          batch_size=batch_size,\n",
    "          epochs=epochs,\n",
    "          verbose=1,\n",
    "          validation_data=(x_test, y_test))\n",
    "score = model.evaluate(x_test, y_test, verbose=0)\n",
    "print('Test loss:', score[0])\n",
    "print('Test accuracy:', score[1])"
   ]
  },
  {
   "cell_type": "code",
   "execution_count": 0,
   "metadata": {
    "colab": {
     "base_uri": "https://localhost:8080/",
     "height": 508
    },
    "colab_type": "code",
    "id": "fv2fmSXX7enz",
    "outputId": "b4dfd9c6-53ad-4e12-b433-ecb5bd03c26c"
   },
   "outputs": [
    {
     "name": "stdout",
     "output_type": "stream",
     "text": [
      "Train on 60000 samples, validate on 10000 samples\n",
      "Epoch 1/12\n",
      "60000/60000 [==============================] - 148s 2ms/step - loss: 0.2691 - acc: 0.9150 - val_loss: 0.0548 - val_acc: 0.9824\n",
      "Epoch 2/12\n",
      "60000/60000 [==============================] - 146s 2ms/step - loss: 0.0791 - acc: 0.9754 - val_loss: 0.0356 - val_acc: 0.9881\n",
      "Epoch 3/12\n",
      "60000/60000 [==============================] - 145s 2ms/step - loss: 0.0578 - acc: 0.9822 - val_loss: 0.0303 - val_acc: 0.9896\n",
      "Epoch 4/12\n",
      "60000/60000 [==============================] - 144s 2ms/step - loss: 0.0484 - acc: 0.9850 - val_loss: 0.0290 - val_acc: 0.9908\n",
      "Epoch 5/12\n",
      "60000/60000 [==============================] - 145s 2ms/step - loss: 0.0417 - acc: 0.9873 - val_loss: 0.0255 - val_acc: 0.9912\n",
      "Epoch 6/12\n",
      "60000/60000 [==============================] - 146s 2ms/step - loss: 0.0347 - acc: 0.9894 - val_loss: 0.0255 - val_acc: 0.9921\n",
      "Epoch 7/12\n",
      "60000/60000 [==============================] - 148s 2ms/step - loss: 0.0318 - acc: 0.9898 - val_loss: 0.0248 - val_acc: 0.9921\n",
      "Epoch 8/12\n",
      "60000/60000 [==============================] - 145s 2ms/step - loss: 0.0268 - acc: 0.9916 - val_loss: 0.0253 - val_acc: 0.9917\n",
      "Epoch 9/12\n",
      "60000/60000 [==============================] - 145s 2ms/step - loss: 0.0259 - acc: 0.9918 - val_loss: 0.0293 - val_acc: 0.9915\n",
      "Epoch 10/12\n",
      "60000/60000 [==============================] - 146s 2ms/step - loss: 0.0226 - acc: 0.9927 - val_loss: 0.0228 - val_acc: 0.9930\n",
      "Epoch 11/12\n",
      "60000/60000 [==============================] - 148s 2ms/step - loss: 0.0221 - acc: 0.9930 - val_loss: 0.0228 - val_acc: 0.9929\n",
      "Epoch 12/12\n",
      "60000/60000 [==============================] - 147s 2ms/step - loss: 0.0200 - acc: 0.9933 - val_loss: 0.0206 - val_acc: 0.9937\n",
      "Test loss: 0.020610521496940554\n",
      "Test accuracy: 0.9937\n"
     ]
    }
   ],
   "source": [
    "model = Sequential()\n",
    "model.add(Conv2D(32, kernel_size=(2, 2),\n",
    "                 activation='relu',\n",
    "                 input_shape=input_shape))\n",
    "model.add(Conv2D(64, (2, 2), activation='relu'))\n",
    "model.add(MaxPooling2D(pool_size=(2, 2)))\n",
    "\n",
    "model.add(Conv2D(128, (2, 2), activation='relu'))\n",
    "\n",
    "model.add(MaxPooling2D(pool_size=(2, 2)))\n",
    "model.add(Dropout(0.25))\n",
    "\n",
    "model.add(Flatten())\n",
    "model.add(Dense(240, activation='relu'))\n",
    "model.add(Dropout(0.5))\n",
    "model.add(Dense(num_classes, activation='softmax'))\n",
    "\n",
    "model.compile(loss=keras.losses.categorical_crossentropy,\n",
    "              optimizer=keras.optimizers.Adadelta(),\n",
    "              metrics=['accuracy'])\n",
    "\n",
    "model.fit(x_train, y_train,\n",
    "          batch_size=batch_size,\n",
    "          epochs=epochs,\n",
    "          verbose=1,\n",
    "          validation_data=(x_test, y_test))\n",
    "score = model.evaluate(x_test, y_test, verbose=0)\n",
    "print('Test loss:', score[0])\n",
    "print('Test accuracy:', score[1])"
   ]
  },
  {
   "cell_type": "code",
   "execution_count": 5,
   "metadata": {
    "colab": {
     "base_uri": "https://localhost:8080/",
     "height": 435
    },
    "colab_type": "code",
    "id": "EvL7zPxmPnBG",
    "outputId": "5329aa6b-e3d2-4e5d-dc69-cf2e98e8abd8"
   },
   "outputs": [
    {
     "name": "stdout",
     "output_type": "stream",
     "text": [
      "Train on 60000 samples, validate on 10000 samples\n",
      "Epoch 1/10\n",
      "60000/60000 [==============================] - 698s 12ms/step - loss: 0.2913 - acc: 0.9094 - val_loss: 0.0489 - val_acc: 0.9858\n",
      "Epoch 2/10\n",
      "60000/60000 [==============================] - 697s 12ms/step - loss: 0.0718 - acc: 0.9781 - val_loss: 0.0432 - val_acc: 0.9857\n",
      "Epoch 3/10\n",
      "60000/60000 [==============================] - 695s 12ms/step - loss: 0.0518 - acc: 0.9843 - val_loss: 0.0260 - val_acc: 0.9910\n",
      "Epoch 4/10\n",
      "60000/60000 [==============================] - 692s 12ms/step - loss: 0.0426 - acc: 0.9866 - val_loss: 0.0247 - val_acc: 0.9914\n",
      "Epoch 5/10\n",
      "60000/60000 [==============================] - 692s 12ms/step - loss: 0.0345 - acc: 0.9896 - val_loss: 0.0218 - val_acc: 0.9929\n",
      "Epoch 6/10\n",
      "60000/60000 [==============================] - 693s 12ms/step - loss: 0.0301 - acc: 0.9913 - val_loss: 0.0204 - val_acc: 0.9935\n",
      "Epoch 7/10\n",
      "60000/60000 [==============================] - 695s 12ms/step - loss: 0.0258 - acc: 0.9921 - val_loss: 0.0225 - val_acc: 0.9931\n",
      "Epoch 8/10\n",
      "60000/60000 [==============================] - 695s 12ms/step - loss: 0.0228 - acc: 0.9929 - val_loss: 0.0221 - val_acc: 0.9930\n",
      "Epoch 9/10\n",
      "60000/60000 [==============================] - 696s 12ms/step - loss: 0.0203 - acc: 0.9933 - val_loss: 0.0205 - val_acc: 0.9930\n",
      "Epoch 10/10\n",
      "60000/60000 [==============================] - 696s 12ms/step - loss: 0.0185 - acc: 0.9942 - val_loss: 0.0224 - val_acc: 0.9924\n",
      "Test loss: 0.02241769640485145\n",
      "Test accuracy: 0.9924\n"
     ]
    }
   ],
   "source": [
    "model = Sequential()\n",
    "model.add(Conv2D(32, kernel_size=(5, 5),\n",
    "                 activation='relu',\n",
    "                 input_shape=input_shape))\n",
    "\n",
    "model.add(Conv2D(64, (5, 5), activation='relu'))\n",
    "\n",
    "\n",
    "model.add(Conv2D(150, (5, 5), activation='relu'))\n",
    "\n",
    "model.add(MaxPooling2D(pool_size=(3,3)))\n",
    "model.add(Dropout(0.25))\n",
    "\n",
    "model.add(Flatten())\n",
    "model.add(Dense(256, activation='relu'))\n",
    "model.add(Dropout(0.5))\n",
    "model.add(Dense(num_classes, activation='softmax'))\n",
    "\n",
    "model.compile(loss=keras.losses.categorical_crossentropy,\n",
    "              optimizer=keras.optimizers.Adadelta(),\n",
    "              metrics=['accuracy'])\n",
    "\n",
    "model.fit(x_train, y_train,\n",
    "          batch_size=250,\n",
    "          epochs=10,\n",
    "          verbose=1,\n",
    "          validation_data=(x_test, y_test))\n",
    "score = model.evaluate(x_test, y_test, verbose=0)\n",
    "print('Test loss:', score[0])\n",
    "print('Test accuracy:', score[1])"
   ]
  },
  {
   "cell_type": "code",
   "execution_count": 0,
   "metadata": {
    "colab": {
     "base_uri": "https://localhost:8080/",
     "height": 837
    },
    "colab_type": "code",
    "id": "wC5T_GnPKEa3",
    "outputId": "5453362a-247a-4c14-dcfe-046dcc0e682e"
   },
   "outputs": [
    {
     "name": "stderr",
     "output_type": "stream",
     "text": [
      "WARNING: Logging before flag parsing goes to stderr.\n",
      "W0705 08:42:49.922214 140400069994368 deprecation_wrapper.py:119] From /usr/local/lib/python3.6/dist-packages/keras/backend/tensorflow_backend.py:74: The name tf.get_default_graph is deprecated. Please use tf.compat.v1.get_default_graph instead.\n",
      "\n",
      "W0705 08:42:49.946507 140400069994368 deprecation_wrapper.py:119] From /usr/local/lib/python3.6/dist-packages/keras/backend/tensorflow_backend.py:517: The name tf.placeholder is deprecated. Please use tf.compat.v1.placeholder instead.\n",
      "\n",
      "W0705 08:42:49.949752 140400069994368 deprecation_wrapper.py:119] From /usr/local/lib/python3.6/dist-packages/keras/backend/tensorflow_backend.py:4138: The name tf.random_uniform is deprecated. Please use tf.random.uniform instead.\n",
      "\n",
      "W0705 08:42:50.013539 140400069994368 deprecation_wrapper.py:119] From /usr/local/lib/python3.6/dist-packages/keras/backend/tensorflow_backend.py:3976: The name tf.nn.max_pool is deprecated. Please use tf.nn.max_pool2d instead.\n",
      "\n",
      "W0705 08:42:50.017174 140400069994368 deprecation_wrapper.py:119] From /usr/local/lib/python3.6/dist-packages/keras/backend/tensorflow_backend.py:133: The name tf.placeholder_with_default is deprecated. Please use tf.compat.v1.placeholder_with_default instead.\n",
      "\n",
      "W0705 08:42:50.030002 140400069994368 deprecation.py:506] From /usr/local/lib/python3.6/dist-packages/keras/backend/tensorflow_backend.py:3445: calling dropout (from tensorflow.python.ops.nn_ops) with keep_prob is deprecated and will be removed in a future version.\n",
      "Instructions for updating:\n",
      "Please use `rate` instead of `keep_prob`. Rate should be set to `rate = 1 - keep_prob`.\n",
      "W0705 08:42:50.113032 140400069994368 deprecation_wrapper.py:119] From /usr/local/lib/python3.6/dist-packages/keras/optimizers.py:790: The name tf.train.Optimizer is deprecated. Please use tf.compat.v1.train.Optimizer instead.\n",
      "\n",
      "W0705 08:42:50.123873 140400069994368 deprecation_wrapper.py:119] From /usr/local/lib/python3.6/dist-packages/keras/backend/tensorflow_backend.py:3295: The name tf.log is deprecated. Please use tf.math.log instead.\n",
      "\n",
      "W0705 08:42:50.227071 140400069994368 deprecation.py:323] From /usr/local/lib/python3.6/dist-packages/tensorflow/python/ops/math_grad.py:1250: add_dispatch_support.<locals>.wrapper (from tensorflow.python.ops.array_ops) is deprecated and will be removed in a future version.\n",
      "Instructions for updating:\n",
      "Use tf.where in 2.0, which has the same broadcast rule as np.where\n"
     ]
    },
    {
     "name": "stdout",
     "output_type": "stream",
     "text": [
      "Train on 60000 samples, validate on 10000 samples\n",
      "Epoch 1/10\n",
      "60000/60000 [==============================] - 1742s 29ms/step - loss: 0.2850 - acc: 0.9111 - val_loss: 0.0536 - val_acc: 0.9816\n",
      "Epoch 2/10\n",
      "60000/60000 [==============================] - 1744s 29ms/step - loss: 0.0802 - acc: 0.9767 - val_loss: 0.0329 - val_acc: 0.9888\n",
      "Epoch 3/10\n",
      "60000/60000 [==============================] - 1737s 29ms/step - loss: 0.0599 - acc: 0.9836 - val_loss: 0.0286 - val_acc: 0.9907\n",
      "Epoch 4/10\n",
      "60000/60000 [==============================] - 1735s 29ms/step - loss: 0.0512 - acc: 0.9850 - val_loss: 0.0338 - val_acc: 0.9900\n",
      "Epoch 5/10\n",
      "60000/60000 [==============================] - 1741s 29ms/step - loss: 0.0432 - acc: 0.9879 - val_loss: 0.0299 - val_acc: 0.9909\n",
      "Epoch 6/10\n",
      "60000/60000 [==============================] - 1737s 29ms/step - loss: 0.0352 - acc: 0.9896 - val_loss: 0.0218 - val_acc: 0.9924\n",
      "Epoch 7/10\n",
      "60000/60000 [==============================] - 1737s 29ms/step - loss: 0.0324 - acc: 0.9908 - val_loss: 0.0252 - val_acc: 0.9927\n",
      "Epoch 8/10\n",
      "60000/60000 [==============================] - 1740s 29ms/step - loss: 0.0318 - acc: 0.9917 - val_loss: 0.0247 - val_acc: 0.9924\n",
      "Epoch 9/10\n",
      "60000/60000 [==============================] - 1741s 29ms/step - loss: 0.0303 - acc: 0.9919 - val_loss: 0.0251 - val_acc: 0.9933\n",
      "Epoch 10/10\n",
      "60000/60000 [==============================] - 1739s 29ms/step - loss: 0.0254 - acc: 0.9929 - val_loss: 0.0232 - val_acc: 0.9933\n",
      "Test loss: 0.023212732669474826\n",
      "Test accuracy: 0.9933\n"
     ]
    }
   ],
   "source": [
    "model = Sequential()\n",
    "model.add(Conv2D(32, kernel_size=(5, 5),\n",
    "                 activation='relu',\n",
    "                 input_shape=input_shape))\n",
    "\n",
    "model.add(Conv2D(64, (3, 3), activation='relu'))\n",
    "\n",
    "\n",
    "\n",
    "model.add(Conv2D(120, (7, 7), activation='relu'))\n",
    "\n",
    "model.add(Conv2D(240, (5, 5), activation='relu'))\n",
    "\n",
    "model.add(MaxPooling2D(pool_size=(3,3)))\n",
    "model.add(Dropout(0.25))\n",
    "\n",
    "model.add(Flatten())\n",
    "model.add(Dense(256, activation='relu'))\n",
    "model.add(Dropout(0.5))\n",
    "model.add(Dense(num_classes, activation='softmax'))\n",
    "\n",
    "model.compile(loss=keras.losses.categorical_crossentropy,\n",
    "              optimizer=keras.optimizers.Adadelta(),\n",
    "              metrics=['accuracy'])\n",
    "\n",
    "model.fit(x_train, y_train,\n",
    "          batch_size=125,\n",
    "          epochs=10,\n",
    "          verbose=1,\n",
    "          validation_data=(x_test, y_test))\n",
    "score = model.evaluate(x_test, y_test, verbose=0)\n",
    "print('Test loss:', score[0])\n",
    "print('Test accuracy:', score[1])"
   ]
  },
  {
   "cell_type": "code",
   "execution_count": 6,
   "metadata": {},
   "outputs": [
    {
     "name": "stdout",
     "output_type": "stream",
     "text": [
      "+-------------------+-------------+----------+--------------+\n",
      "| No. of CNN layers | Kernal size | Test AUC | Validate AUC |\n",
      "+-------------------+-------------+----------+--------------+\n",
      "|         2         |     3*3     |  0.9914  |    0.9923    |\n",
      "|         3         |     2*2     |  0.9933  |    0.9937    |\n",
      "|         3         |     5*5     |  0.9942  |    0.9924    |\n",
      "|         4         |   5,3,7,5   |  0.9942  |    0.9924    |\n",
      "+-------------------+-------------+----------+--------------+\n"
     ]
    }
   ],
   "source": [
    "from prettytable import PrettyTable\n",
    "    \n",
    "x = PrettyTable()\n",
    "\n",
    "x.field_names = [\"No. of CNN layers\", \"Kernal size\", \"Test AUC\", \"Validate AUC\"]\n",
    "\n",
    "x.add_row([\"2\", \"3*3\", 0.9914, 0.9923])\n",
    "x.add_row([\"3\", \"2*2\", 0.9933, 0.9937])\n",
    "x.add_row([\"3\", \"5*5\", 0.9942, 0.9924])\n",
    "x.add_row([\"4\", \"5,3,7,5\", 0.9942, 0.9924])\n",
    "\n",
    "print(x)"
   ]
  },
  {
   "cell_type": "markdown",
   "metadata": {},
   "source": [
    "From above pritty table we can conclude that Test Auc and Validate Auc for kernal size 2*2 is approximately same \n",
    "compared to other models."
   ]
  }
 ],
 "metadata": {
  "colab": {
   "collapsed_sections": [],
   "name": "CNN_MNIST_(1) (1).ipynb",
   "provenance": [],
   "version": "0.3.2"
  },
  "kernelspec": {
   "display_name": "Python 3",
   "language": "python",
   "name": "python3"
  },
  "language_info": {
   "codemirror_mode": {
    "name": "ipython",
    "version": 3
   },
   "file_extension": ".py",
   "mimetype": "text/x-python",
   "name": "python",
   "nbconvert_exporter": "python",
   "pygments_lexer": "ipython3",
   "version": "3.6.5"
  }
 },
 "nbformat": 4,
 "nbformat_minor": 1
}
